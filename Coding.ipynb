{
 "cells": [
  {
   "cell_type": "markdown",
   "metadata": {},
   "source": [
    "**Según nuestro flowchart necesitamos:**\n",
    "- La base de datos con ejercicios\n",
    "- Cronómetro X"
   ]
  },
  {
   "cell_type": "code",
   "execution_count": 1,
   "metadata": {},
   "outputs": [
    {
     "ename": "SyntaxError",
     "evalue": "invalid syntax (<ipython-input-1-155dd1a2f69f>, line 2)",
     "output_type": "error",
     "traceback": [
      "\u001b[1;36m  File \u001b[1;32m\"<ipython-input-1-155dd1a2f69f>\"\u001b[1;36m, line \u001b[1;32m2\u001b[0m\n\u001b[1;33m    https://www.w3resource.com/python-exercises/re/\u001b[0m\n\u001b[1;37m           ^\u001b[0m\n\u001b[1;31mSyntaxError\u001b[0m\u001b[1;31m:\u001b[0m invalid syntax\n"
     ]
    }
   ],
   "source": [
    "# Encontré esta liga, ya trae soluciones pero tendríamos que extraerlos de 1 por 1\n",
    "https://www.w3resource.com/python-exercises/re/ \n",
    "    \n",
    "# La página que nos pasó Bris\n",
    "https://regexone.com/"
   ]
  },
  {
   "cell_type": "code",
   "execution_count": null,
   "metadata": {},
   "outputs": [],
   "source": [
    "import time\n",
    "\n",
    "# Definimos el temporizador\n",
    "def Countdown(p=30):\n",
    "    \n",
    "# P es el tiempo en segundos que tiene el usuario para poder contestar la pregunta correctamente\n",
    "        alarm = time.time() + p\n",
    "        \n",
    "        while True: # Loop \"infinito\" hasta que se cumpla la condición\n",
    "            n = time.time()\n",
    "            if n < alarm:\n",
    "                1 #Aquí es dónde debemos correr el proceso de preguntas\n",
    "            else:\n",
    "                print(\"Time's up!\")\n",
    "                break\n",
    "\n",
    "Countdown()"
   ]
  },
  {
   "cell_type": "code",
   "execution_count": 2,
   "metadata": {},
   "outputs": [],
   "source": [
    "import re"
   ]
  },
  {
   "cell_type": "code",
   "execution_count": 3,
   "metadata": {},
   "outputs": [],
   "source": [
    "# Se  me ocurre que podemos ir añadiendo las preguntas así, pero me no se bien si es la mejor manera de manerjarlo\n",
    "\n",
    "class preguntas:\n",
    "    def __init__(self,tipo,pregunta,respuesta,ayuda):\n",
    "        self.pregunta=pregunta\n",
    "        self.tipo=tipo\n",
    "        self.respuesta=respuesta\n",
    "        self.ayuda=ayuda\n",
    "    \n",
    "    def pruebaregex(self,respuesta,answer):\n",
    "#         self.assertEqual(re.findall(respuesta,answer),respuesta) \n",
    "#         return re.findall(respuesta,answer)==respuesta\n",
    "        c=respuesta\n",
    "        charRe=re.compile(\"'\"+answer+\"'\")\n",
    "        c = charRe.search(c)\n",
    "        return not bool (c)"
   ]
  },
  {
   "cell_type": "code",
   "execution_count": 4,
   "metadata": {},
   "outputs": [],
   "source": [
    "# En tipo podrian ser regex, strig operations o a lo mejor sólo preguntas de temas que hemos visto\n",
    "p1=preguntas(\"regex\",\"Expresión que utilizarías para hacer match con 'ABCDEFabcdef123450' \",'ABCDEFabcdef123450',\"Considera letras y números\")"
   ]
  },
  {
   "cell_type": "code",
   "execution_count": 5,
   "metadata": {},
   "outputs": [
    {
     "name": "stdout",
     "output_type": "stream",
     "text": [
      "Expresión que utilizarías para hacer match con 'ABCDEFabcdef123450' [^A-Za-z0-9.]\n"
     ]
    }
   ],
   "source": [
    "# Al preguntar podríamos usar un input\n",
    "answer=input(p1.pregunta)"
   ]
  },
  {
   "cell_type": "code",
   "execution_count": 6,
   "metadata": {},
   "outputs": [
    {
     "data": {
      "text/plain": [
       "True"
      ]
     },
     "execution_count": 6,
     "metadata": {},
     "output_type": "execute_result"
    }
   ],
   "source": [
    "# Para evaluar la respuesta llamo al método pruebaregex\n",
    "p1.pruebaregex(p1.respuesta,answer)"
   ]
  },
  {
   "cell_type": "code",
   "execution_count": 7,
   "metadata": {},
   "outputs": [
    {
     "data": {
      "text/plain": [
       "True"
      ]
     },
     "execution_count": 7,
     "metadata": {},
     "output_type": "execute_result"
    }
   ],
   "source": [
    "# Esta fue una prueba para ver como contruia el método anterior :)\n",
    "c='SARN960327'\n",
    "charRe=re.compile('\\W{4}\\d{6}')\n",
    "c = charRe.search(c)\n",
    "not bool (c)"
   ]
  }
 ],
 "metadata": {
  "kernelspec": {
   "display_name": "Python 3",
   "language": "python",
   "name": "python3"
  },
  "language_info": {
   "codemirror_mode": {
    "name": "ipython",
    "version": 3
   },
   "file_extension": ".py",
   "mimetype": "text/x-python",
   "name": "python",
   "nbconvert_exporter": "python",
   "pygments_lexer": "ipython3",
   "version": "3.7.6"
  }
 },
 "nbformat": 4,
 "nbformat_minor": 4
}
